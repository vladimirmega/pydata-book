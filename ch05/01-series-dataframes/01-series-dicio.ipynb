{
 "cells": [
  {
   "cell_type": "code",
   "id": "initial_id",
   "metadata": {
    "collapsed": true,
    "ExecuteTime": {
     "end_time": "2024-11-15T15:44:02.780479Z",
     "start_time": "2024-11-15T15:44:02.690413Z"
    }
   },
   "source": [
    "import pandas as pd\n",
    "from sipbuild.generator.parser.tokens import states"
   ],
   "outputs": [],
   "execution_count": 10
  },
  {
   "metadata": {
    "ExecuteTime": {
     "end_time": "2024-11-15T15:44:02.799238Z",
     "start_time": "2024-11-15T15:44:02.790682Z"
    }
   },
   "cell_type": "code",
   "source": [
    "# Dicionário para Série\n",
    "sdata = {\"Ohio\": 35000, \"Texas\": 71000, \"Oregon\": 16000, \"Utah\": 5000}\n",
    "obj3 = pd.Series(sdata)\n",
    "obj3"
   ],
   "id": "f6029fb74b3011d5",
   "outputs": [
    {
     "data": {
      "text/plain": [
       "Ohio      35000\n",
       "Texas     71000\n",
       "Oregon    16000\n",
       "Utah       5000\n",
       "dtype: int64"
      ]
     },
     "execution_count": 11,
     "metadata": {},
     "output_type": "execute_result"
    }
   ],
   "execution_count": 11
  },
  {
   "metadata": {
    "ExecuteTime": {
     "end_time": "2024-11-15T15:44:02.888108Z",
     "start_time": "2024-11-15T15:44:02.884396Z"
    }
   },
   "cell_type": "code",
   "source": [
    "# Série para Dicionário\n",
    "obj3.to_dict()"
   ],
   "id": "5b68e601cf52919c",
   "outputs": [
    {
     "data": {
      "text/plain": [
       "{'Ohio': 35000, 'Texas': 71000, 'Oregon': 16000, 'Utah': 5000}"
      ]
     },
     "execution_count": 12,
     "metadata": {},
     "output_type": "execute_result"
    }
   ],
   "execution_count": 12
  },
  {
   "metadata": {
    "ExecuteTime": {
     "end_time": "2024-11-15T15:44:02.997607Z",
     "start_time": "2024-11-15T15:44:02.990529Z"
    }
   },
   "cell_type": "code",
   "source": [
    "# Criando a série e definindo chaves com ordem\n",
    "states = [\"California\", \"Ohio\", \"Oregon\", \"Texas\"]\n",
    "obj4 = pd.Series(sdata, index=states)\n",
    "obj4"
   ],
   "id": "559a8ca70caf45a0",
   "outputs": [
    {
     "data": {
      "text/plain": [
       "California        NaN\n",
       "Ohio          35000.0\n",
       "Oregon        16000.0\n",
       "Texas         71000.0\n",
       "dtype: float64"
      ]
     },
     "execution_count": 13,
     "metadata": {},
     "output_type": "execute_result"
    }
   ],
   "execution_count": 13
  },
  {
   "metadata": {
    "ExecuteTime": {
     "end_time": "2024-11-15T15:44:03.105425Z",
     "start_time": "2024-11-15T15:44:03.100532Z"
    }
   },
   "cell_type": "code",
   "source": [
    "# Verificando nulos\n",
    "pd.isna(obj4)"
   ],
   "id": "a6023b9ba6a71dba",
   "outputs": [
    {
     "data": {
      "text/plain": [
       "California     True\n",
       "Ohio          False\n",
       "Oregon        False\n",
       "Texas         False\n",
       "dtype: bool"
      ]
     },
     "execution_count": 14,
     "metadata": {},
     "output_type": "execute_result"
    }
   ],
   "execution_count": 14
  },
  {
   "metadata": {
    "ExecuteTime": {
     "end_time": "2024-11-15T15:44:03.329460Z",
     "start_time": "2024-11-15T15:44:03.323633Z"
    }
   },
   "cell_type": "code",
   "source": "pd.notna(obj4)",
   "id": "c6f29872d0b1da9e",
   "outputs": [
    {
     "data": {
      "text/plain": [
       "California    False\n",
       "Ohio           True\n",
       "Oregon         True\n",
       "Texas          True\n",
       "dtype: bool"
      ]
     },
     "execution_count": 15,
     "metadata": {},
     "output_type": "execute_result"
    }
   ],
   "execution_count": 15
  },
  {
   "metadata": {
    "ExecuteTime": {
     "end_time": "2024-11-15T15:44:03.496157Z",
     "start_time": "2024-11-15T15:44:03.490179Z"
    }
   },
   "cell_type": "code",
   "source": [
    "# Verificando null pelo método da instância\n",
    "obj4.isna()"
   ],
   "id": "8d15b6e6c8fb6f0c",
   "outputs": [
    {
     "data": {
      "text/plain": [
       "California     True\n",
       "Ohio          False\n",
       "Oregon        False\n",
       "Texas         False\n",
       "dtype: bool"
      ]
     },
     "execution_count": 16,
     "metadata": {},
     "output_type": "execute_result"
    }
   ],
   "execution_count": 16
  },
  {
   "metadata": {
    "ExecuteTime": {
     "end_time": "2024-11-15T15:44:03.609094Z",
     "start_time": "2024-11-15T15:44:03.601675Z"
    }
   },
   "cell_type": "code",
   "source": [
    "# Alinhamento automático pelo rótulo do índice em operações aritméticas (funciona como um join)\n",
    "obj3 + obj4"
   ],
   "id": "bfd30e079e190120",
   "outputs": [
    {
     "data": {
      "text/plain": [
       "California         NaN\n",
       "Ohio           70000.0\n",
       "Oregon         32000.0\n",
       "Texas         142000.0\n",
       "Utah               NaN\n",
       "dtype: float64"
      ]
     },
     "execution_count": 17,
     "metadata": {},
     "output_type": "execute_result"
    }
   ],
   "execution_count": 17
  },
  {
   "metadata": {
    "ExecuteTime": {
     "end_time": "2024-11-15T15:46:50.421164Z",
     "start_time": "2024-11-15T15:46:50.415970Z"
    }
   },
   "cell_type": "code",
   "source": [
    "# Nomeando o objeto e o índice\n",
    "obj4.name = \"population\"\n",
    "obj4.index.name = \"state\"\n",
    "obj4"
   ],
   "id": "318d70928f289786",
   "outputs": [
    {
     "data": {
      "text/plain": [
       "state\n",
       "California        NaN\n",
       "Ohio          35000.0\n",
       "Oregon        16000.0\n",
       "Texas         71000.0\n",
       "Name: population, dtype: float64"
      ]
     },
     "execution_count": 18,
     "metadata": {},
     "output_type": "execute_result"
    }
   ],
   "execution_count": 18
  },
  {
   "metadata": {
    "ExecuteTime": {
     "end_time": "2024-11-15T15:54:12.192750Z",
     "start_time": "2024-11-15T15:54:12.188324Z"
    }
   },
   "cell_type": "code",
   "source": "list(obj4.index)",
   "id": "ce36a524e57cdf63",
   "outputs": [
    {
     "data": {
      "text/plain": [
       "['California', 'Ohio', 'Oregon', 'Texas']"
      ]
     },
     "execution_count": 20,
     "metadata": {},
     "output_type": "execute_result"
    }
   ],
   "execution_count": 20
  }
 ],
 "metadata": {
  "kernelspec": {
   "display_name": "Python 3",
   "language": "python",
   "name": "python3"
  },
  "language_info": {
   "codemirror_mode": {
    "name": "ipython",
    "version": 2
   },
   "file_extension": ".py",
   "mimetype": "text/x-python",
   "name": "python",
   "nbconvert_exporter": "python",
   "pygments_lexer": "ipython2",
   "version": "2.7.6"
  }
 },
 "nbformat": 4,
 "nbformat_minor": 5
}
